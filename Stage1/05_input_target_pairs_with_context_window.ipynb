{
 "cells": [
  {
   "cell_type": "code",
   "execution_count": 1,
   "id": "e70018d6",
   "metadata": {},
   "outputs": [
    {
     "name": "stdout",
     "output_type": "stream",
     "text": [
      "[2246] --> 42006\n",
      "[2246, 42006] --> 412\n",
      "[2246, 42006, 412] --> 16219\n",
      "[2246, 42006, 412, 16219] --> 25401\n",
      "AC --> CEPT\n",
      "ACCEPT -->  E\n",
      "ACCEPT E --> ACH\n",
      "ACCEPT EACH -->  OTHER\n"
     ]
    }
   ],
   "source": [
    "\n",
    "import re\n",
    "import tiktoken\n",
    "\n",
    "tokenizer = tiktoken.get_encoding(\"gpt2\")\n",
    "\n",
    "with open(\"./fiction_stories.txt\", \"r\", encoding=\"utf-8\") as f:\n",
    "    sample = f.read()\n",
    "\n",
    "sample = sample[50:]\n",
    "enc_sample = tokenizer.encode(sample)\n",
    "#enc_sample = re.split(r\"[.,:;|()?!\\']|--|\\s\", sample)\n",
    "#enc_sample = [item.strip() for item in enc_sample if item.strip()]\n",
    "\n",
    "context_window = 4\n",
    "for i in range(1, context_window + 1) :\n",
    "    input_token = enc_sample[:i]\n",
    "    target_token = enc_sample[i]\n",
    "    print(input_token, \"-->\", target_token)\n",
    "\n",
    "#print(enc_sample)\n",
    "enc_sample = enc_sample[:50]\n",
    "dec_sample = tokenizer.decode(enc_sample)\n",
    "# Note : Every thing left of arrow refers to input of an LLM would recieve and the token id\n",
    "# on the right hand side of the arrow represents the target token ID that the LLM is suppose to predict\n",
    "for i in range(1, context_window + 1) :\n",
    "    input =   tokenizer.decode(enc_sample[:i])\n",
    "    target =  tokenizer.decode([enc_sample[i]])\n",
    "\n",
    "    print(input, \"-->\", target)"
   ]
  }
 ],
 "metadata": {
  "kernelspec": {
   "display_name": "Python 3",
   "language": "python",
   "name": "python3"
  },
  "language_info": {
   "codemirror_mode": {
    "name": "ipython",
    "version": 3
   },
   "file_extension": ".py",
   "mimetype": "text/x-python",
   "name": "python",
   "nbconvert_exporter": "python",
   "pygments_lexer": "ipython3",
   "version": "3.11.4"
  }
 },
 "nbformat": 4,
 "nbformat_minor": 5
}
