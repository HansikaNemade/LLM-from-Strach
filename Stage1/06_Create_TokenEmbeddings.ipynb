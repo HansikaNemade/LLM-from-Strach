{
 "cells": [
  {
   "cell_type": "code",
   "execution_count": 1,
   "id": "385b1288",
   "metadata": {},
   "outputs": [
    {
     "name": "stdout",
     "output_type": "stream",
     "text": [
      "tensor([[-0.4015,  0.9666, -1.1481]], grad_fn=<EmbeddingBackward0>)\n",
      "tensor([[-0.4015,  0.9666, -1.1481],\n",
      "        [-2.8400, -0.7849, -1.4096]], grad_fn=<EmbeddingBackward0>)\n"
     ]
    }
   ],
   "source": [
    "import torch\n",
    "\n",
    "#Every token id in tensor is associated with word\n",
    "input_ids = torch.tensor([2,3,5,1])\n",
    "\n",
    "vocab_size = 6\n",
    "output_dim = 3\n",
    "\n",
    "torch.manual_seed(123)\n",
    "\n",
    "embedding_layer = torch.nn.Embedding(vocab_size, output_dim) # 6 * 3\n",
    "\n",
    "# After we instantiated the embedded layer, let's now apply it to a token ID to obtain\n",
    "# the embedding vector:\n",
    "\n",
    "print(embedding_layer(torch.tensor([3]))) # 3 is token id\n",
    "\n",
    "print(embedding_layer(torch.tensor([3,5])))"
   ]
  }
 ],
 "metadata": {
  "kernelspec": {
   "display_name": "Python 3",
   "language": "python",
   "name": "python3"
  },
  "language_info": {
   "codemirror_mode": {
    "name": "ipython",
    "version": 3
   },
   "file_extension": ".py",
   "mimetype": "text/x-python",
   "name": "python",
   "nbconvert_exporter": "python",
   "pygments_lexer": "ipython3",
   "version": "3.11.4"
  }
 },
 "nbformat": 4,
 "nbformat_minor": 5
}
