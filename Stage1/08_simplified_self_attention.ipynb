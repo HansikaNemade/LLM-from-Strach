{
 "cells": [
  {
   "cell_type": "code",
   "execution_count": 2,
   "id": "9bfc8f34",
   "metadata": {},
   "outputs": [],
   "source": [
    "\n",
    "import torch.nn as nn\n",
    "import torch "
   ]
  },
  {
   "cell_type": "code",
   "execution_count": 3,
   "id": "20b213bc",
   "metadata": {},
   "outputs": [
    {
     "data": {
      "text/plain": [
       "<torch._C.Generator at 0x1ceffdd4a30>"
      ]
     },
     "execution_count": 3,
     "metadata": {},
     "output_type": "execute_result"
    }
   ],
   "source": [
    "torch.manual_seed(789)"
   ]
  },
  {
   "cell_type": "code",
   "execution_count": null,
   "id": "6337a458",
   "metadata": {},
   "outputs": [],
   "source": [
    "# self attention mechanism using nn parameter\n",
    "\n",
    "class SelfAttention_v1(nn.Module) :\n",
    "    def __init__(self, d_in, d_out) : # d_in should be size of input embedding dimensions \n",
    "        super().__init__()\n",
    "        self.W_Query = nn.Parameter(torch.rand(d_in, d_out))\n",
    "        self.W_Key   = nn.Parameter(torch.rand(d_in, d_out))\n",
    "        self.W_Value = nn.Parameter(torch.rand(d_in, d_out))\n",
    "\n",
    "    def forward(self, x) : # Here x is input embeddings that have dimensions as (vocab_size, embedd_dims)\n",
    "        keys      =   x @ self.W_Key\n",
    "        queries   =   x @ self.W_Query\n",
    "        values    =   x @ self.W_Value\n",
    "\n",
    "        attention_scores = queries @ torch.transpose(keys)\n",
    "        attention_weights = torch.softmax(attention_scores / torch.sqrt(keys.shape[-1]), dim=-1)\n",
    "\n",
    "        context_matrix = attention_weights @ values\n",
    "        return context_matrix\n"
   ]
  },
  {
   "cell_type": "code",
   "execution_count": 7,
   "id": "a6060347",
   "metadata": {},
   "outputs": [],
   "source": [
    "# self_attention_mechanism using nn.Linear\n",
    "\n",
    "class SelfAttention_v2(nn.Module) :\n",
    "    \n",
    "    def __init__(self, d_in, d_out, qkv_bias=False) :\n",
    "        #super(SelfAttention_v2, self).__init__()\n",
    "        super().__init__()\n",
    "        # Trainable keys, queries and values matrices\n",
    "        self.W_queries = nn.Linear(d_in, d_out, bias=qkv_bias)\n",
    "        self.W_keys = nn.Linear(d_in, d_out, bias=qkv_bias)\n",
    "        self.W_values = nn.Linear(d_in, d_out, bias=qkv_bias)\n",
    "\n",
    "    def forward(self, x) : \n",
    "        # Projecting key, value and queries matrix on d_out dimensional\n",
    "        Keys = self.W_keys(x)\n",
    "        Queries = self.W_queries(x)\n",
    "        Values = self.W_values(x)\n",
    "\n",
    "        atten_scores = Queries @ Keys.T\n",
    "        atten_weights = torch.softmax(atten_scores / (Keys.shape[-1] ** 0.5), dim=-1)\n",
    "        context_vectors = atten_weights @ Values\n",
    "        \n",
    "        return context_vectors\n"
   ]
  },
  {
   "cell_type": "code",
   "execution_count": 8,
   "id": "ad359f1c",
   "metadata": {},
   "outputs": [
    {
     "name": "stdout",
     "output_type": "stream",
     "text": [
      "tensor([[-0.0846,  0.0597],\n",
      "        [-0.0856,  0.0583],\n",
      "        [-0.0856,  0.0583],\n",
      "        [-0.0857,  0.0581],\n",
      "        [-0.0871,  0.0563],\n",
      "        [-0.0862,  0.0575]], grad_fn=<MmBackward0>)\n"
     ]
    }
   ],
   "source": [
    "\n",
    "d_in = 3\n",
    "d_out = 2\n",
    "x = torch.tensor([[0.43, 0.15, 0.89], # your\n",
    "                  [0.55, 0.87, 0.66], # journey\n",
    "                  [0.57, 0.85, 0.66], # starts\n",
    "                  [0.22, 0.58, 0.64], # with\n",
    "                  [0.77, 0.25, 0.10], # one\n",
    "                  [0.05, 0.80, 0.55]]) # step\n",
    "\n",
    "self_atten = SelfAttention_v2(d_in, d_out)\n",
    "print(self_atten.forward(x))"
   ]
  }
 ],
 "metadata": {
  "kernelspec": {
   "display_name": "Python 3",
   "language": "python",
   "name": "python3"
  },
  "language_info": {
   "codemirror_mode": {
    "name": "ipython",
    "version": 3
   },
   "file_extension": ".py",
   "mimetype": "text/x-python",
   "name": "python",
   "nbconvert_exporter": "python",
   "pygments_lexer": "ipython3",
   "version": "3.11.4"
  }
 },
 "nbformat": 4,
 "nbformat_minor": 5
}
