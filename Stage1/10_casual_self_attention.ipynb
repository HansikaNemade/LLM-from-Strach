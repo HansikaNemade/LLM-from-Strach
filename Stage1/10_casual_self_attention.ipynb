{
 "cells": [
  {
   "cell_type": "code",
   "execution_count": 2,
   "id": "0fd86753",
   "metadata": {},
   "outputs": [],
   "source": [
    "\n",
    "import torch.nn as nn\n",
    "import torch"
   ]
  },
  {
   "cell_type": "code",
   "execution_count": 14,
   "id": "de9d41e0",
   "metadata": {},
   "outputs": [],
   "source": [
    "\n",
    "\n",
    "class CausalAttention(nn.Module):\n",
    "    def __init__(self, d_in, d_out, context_length, dropout_prob, qkv_bias=False):\n",
    "        super().__init__()\n",
    "        self.d_out = d_out\n",
    "        self.W_query = nn.Linear(d_in, d_out, bias = qkv_bias)\n",
    "        self.W_key = nn.Linear(d_in, d_out, bias = qkv_bias)\n",
    "        self.W_value = nn.Linear(d_in, d_out, bias=qkv_bias) \n",
    "        self.register_buffer(\"mask\", torch.triu(torch.ones(context_length, context_length), diagonal = 1))\n",
    "        self.dropout = nn.Dropout(dropout_prob)\n",
    "\n",
    "    \n",
    "    def forward(self, x):\n",
    "        batch_size, num_tokens, featers = x.shape\n",
    "        Queries = self.W_query(x)\n",
    "        Keys = self.W_key(x)\n",
    "        values = self.W_value(x)\n",
    "\n",
    "        attn_scores = Queries @ Keys.transpose(1,2)\n",
    "        # print(\"mask: \\n\", self.msk.bool()[:num_tokens, :num_tokens])\n",
    "        # print(\"mask Shape : \", self.mask.shape)\n",
    "        # print(\"attention scores : \\n\", attn_scores)\n",
    "\n",
    "        attn_scores.masked_fill_(self.mask.bool()[:num_tokens, :num_tokens], -torch.inf)\n",
    "        attn_weights = torch.softmax(attn_scores / (Keys.shape[-1]**0.5), dim=-1)\n",
    "        attn_weights = self.dropout(attn_weights)\n",
    "        context_vec = attn_weights @ values\n",
    "        return context_vec\n",
    "\n",
    "\n",
    "\n"
   ]
  },
  {
   "cell_type": "code",
   "execution_count": 15,
   "id": "f4b95336",
   "metadata": {},
   "outputs": [
    {
     "name": "stdout",
     "output_type": "stream",
     "text": [
      "input : \n",
      " tensor([[[0.4300, 0.1500, 0.8900],\n",
      "         [0.5500, 0.8700, 0.6600],\n",
      "         [0.5700, 0.8500, 0.6600],\n",
      "         [0.2200, 0.5800, 0.6600],\n",
      "         [0.7700, 0.2500, 0.1000],\n",
      "         [0.0500, 0.8000, 0.5500]],\n",
      "\n",
      "        [[0.4300, 0.1500, 0.8900],\n",
      "         [0.5500, 0.8700, 0.6600],\n",
      "         [0.5700, 0.8500, 0.6600],\n",
      "         [0.2200, 0.5800, 0.6600],\n",
      "         [0.7700, 0.2500, 0.1000],\n",
      "         [0.0500, 0.8000, 0.5500]]])\n",
      "input shape :  torch.Size([2, 6, 3])\n",
      "context length :  6\n",
      "causal attention for input pairs : \n",
      " CausalAttention(\n",
      "  (W_query): Linear(in_features=3, out_features=2, bias=False)\n",
      "  (W_key): Linear(in_features=3, out_features=2, bias=False)\n",
      "  (W_value): Linear(in_features=3, out_features=2, bias=False)\n",
      "  (dropout): Dropout(p=0.2, inplace=False)\n",
      ")\n",
      "context vector for input pairs : \n",
      " tensor([[[ 3.3758e-01, -6.0836e-01],\n",
      "         [ 0.0000e+00,  0.0000e+00],\n",
      "         [ 1.1897e-01, -5.3597e-01],\n",
      "         [ 1.0012e-02, -4.9149e-01],\n",
      "         [-1.1757e-05, -6.6738e-01],\n",
      "         [ 6.5842e-03, -3.2323e-01]],\n",
      "\n",
      "        [[ 0.0000e+00,  0.0000e+00],\n",
      "         [ 1.8199e-01, -7.9972e-01],\n",
      "         [ 1.1897e-01, -5.3597e-01],\n",
      "         [ 1.5416e-01, -8.0133e-01],\n",
      "         [ 4.5163e-02, -7.8810e-01],\n",
      "         [ 1.0514e-01, -5.3468e-01]]], grad_fn=<UnsafeViewBackward0>)\n"
     ]
    }
   ],
   "source": [
    "\n",
    "x = torch.tensor([[0.43, 0.15, 0.89],\n",
    "                 [0.55, 0.87, 0.66],\n",
    "                 [0.57, 0.85, 0.66],\n",
    "                 [0.22, 0.58, 0.66],\n",
    "                 [0.77, 0.25, 0.10],\n",
    "                 [0.05, 0.80, 0.55]])\n",
    "\n",
    "inputs = torch.stack((x,x), dim=0)\n",
    "\n",
    "print(\"input : \\n\", inputs)\n",
    "print(\"input shape : \", inputs.shape)\n",
    "\n",
    "\n",
    "d_in = 3\n",
    "d_out = 2\n",
    "\n",
    "context_length = inputs.shape[1]\n",
    "print(\"context length : \", context_length)\n",
    "ca = CausalAttention(d_in=3, d_out =2, context_length=context_length, dropout_prob=0.2)\n",
    "print(\"causal attention for input pairs : \\n\", ca)\n",
    "print(\"context vector for input pairs : \\n\", ca(inputs))"
   ]
  }
 ],
 "metadata": {
  "kernelspec": {
   "display_name": "Python 3",
   "language": "python",
   "name": "python3"
  },
  "language_info": {
   "codemirror_mode": {
    "name": "ipython",
    "version": 3
   },
   "file_extension": ".py",
   "mimetype": "text/x-python",
   "name": "python",
   "nbconvert_exporter": "python",
   "pygments_lexer": "ipython3",
   "version": "3.11.4"
  }
 },
 "nbformat": 4,
 "nbformat_minor": 5
}
